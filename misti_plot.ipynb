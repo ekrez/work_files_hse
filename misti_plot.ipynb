{
 "cells": [
  {
   "cell_type": "code",
   "execution_count": 2,
   "metadata": {},
   "outputs": [],
   "source": [
    "import matplotlib.pyplot as plt\n",
    "import numpy as np\n",
    "from matplotlib import cm"
   ]
  },
  {
   "cell_type": "code",
   "execution_count": null,
   "metadata": {},
   "outputs": [],
   "source": []
  },
  {
   "cell_type": "code",
   "execution_count": null,
   "metadata": {},
   "outputs": [],
   "source": []
  },
  {
   "cell_type": "code",
   "execution_count": null,
   "metadata": {},
   "outputs": [],
   "source": []
  },
  {
   "cell_type": "code",
   "execution_count": null,
   "metadata": {},
   "outputs": [],
   "source": []
  },
  {
   "cell_type": "code",
   "execution_count": null,
   "metadata": {},
   "outputs": [],
   "source": []
  },
  {
   "cell_type": "code",
   "execution_count": 7,
   "metadata": {},
   "outputs": [
    {
     "name": "stdout",
     "output_type": "stream",
     "text": [
      "-131595.33831304975\n"
     ]
    },
    {
     "data": {
      "image/png": "[encoded data removed]",
      "text/plain": [
       "<Figure size 432x432 with 2 Axes>"
      ]
     },
     "metadata": {
      "needs_background": "light"
     },
     "output_type": "display_data"
    }
   ],
   "source": [
    "with open(\"D:/Geno/Pumas.12.06/pumas.result.29.txt\") as textFile:\n",
    "    lines = [line.split() for line in textFile]\n",
    "    \n",
    "for i in range(len(lines)):\n",
    "    for j in range(len(lines)):\n",
    "        lines[i][j]=float(lines[i][j])\n",
    "min=0\n",
    "max = -9999999\n",
    "for i in range(len(lines)):\n",
    "    for j in range(len(lines[0])):\n",
    "        if lines[i][j]!=-9999999 and lines[i][j]<min:\n",
    "            min=lines[i][j]\n",
    "        if lines[i][j] > max: \n",
    "            max = lines[i][j]\n",
    "\n",
    "            \n",
    "for i in range(len(lines)):\n",
    "    for j in range(len(lines)):\n",
    "        if lines[i][j]==-9999999:\n",
    "            lines[i][j]=np.nan          \n",
    "        \n",
    "x=np.arange(0,10,0.25)\n",
    "y=np.arange(0,10,0.25)\n",
    "\n",
    "Z=np.array(lines)\n",
    "\n",
    "\n",
    "fig, ax = plt.subplots()\n",
    "\n",
    "\n",
    "A = ax.contourf(x,y,Z,levels=40)\n",
    "cbar = fig.colorbar(A,ticks=range( int(max)+1,int(min)-1, -5000))\n",
    "ax.set_xlabel(\"m2\")\n",
    "ax.set_ylabel(\"m1\")\n",
    "fig.set_figwidth(6)\n",
    "fig.set_figheight(6)\n",
    "ax.set_title(\"Pumas.t=29\")\n",
    "\n",
    "\n",
    "plt.savefig('Pumas.12.06.t=29.png')\n",
    "\n",
    "print(max)"
   ]
  },
  {
   "cell_type": "code",
   "execution_count": null,
   "metadata": {},
   "outputs": [],
   "source": []
  },
  {
   "cell_type": "code",
   "execution_count": null,
   "metadata": {},
   "outputs": [],
   "source": []
  },
  {
   "cell_type": "code",
   "execution_count": null,
   "metadata": {},
   "outputs": [],
   "source": []
  },
  {
   "cell_type": "code",
   "execution_count": null,
   "metadata": {},
   "outputs": [],
   "source": []
  },
  {
   "cell_type": "code",
   "execution_count": null,
   "metadata": {},
   "outputs": [],
   "source": []
  },
  {
   "cell_type": "code",
   "execution_count": null,
   "metadata": {
    "scrolled": true
   },
   "outputs": [],
   "source": []
  },
  {
   "cell_type": "code",
   "execution_count": null,
   "metadata": {},
   "outputs": [],
   "source": []
  }
 ],
 "metadata": {
  "kernelspec": {
   "display_name": "Python 3",
   "language": "python",
   "name": "python3"
  },
  "language_info": {
   "codemirror_mode": {
    "name": "ipython",
    "version": 3
   },
   "file_extension": ".py",
   "mimetype": "text/x-python",
   "name": "python",
   "nbconvert_exporter": "python",
   "pygments_lexer": "ipython3",
   "version": "3.8.5"
  }
 },
 "nbformat": 4,
 "nbformat_minor": 4
}
